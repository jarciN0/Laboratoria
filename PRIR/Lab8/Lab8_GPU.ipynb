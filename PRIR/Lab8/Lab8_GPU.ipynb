{
  "cells": [
    {
      "cell_type": "markdown",
      "metadata": {
        "id": "fSspIb-VW9Gw"
      },
      "source": [
        "# **LAB 5**\n",
        "______"
      ]
    },
    {
      "cell_type": "markdown",
      "metadata": {
        "id": "jhC_zg9dh861"
      },
      "source": [
        "## **Zad 1**\n",
        "> #### `np` - numer procesu\n",
        "> #### `lp` - liczba procesów\n",
        "> #### `n` - indeks w szeregu (od 1)"
      ]
    },
    {
      "cell_type": "code",
      "execution_count": 138,
      "metadata": {
        "colab": {
          "base_uri": "https://localhost:8080/"
        },
        "id": "dzMV27xlh_cR",
        "outputId": "099beb1e-73cb-4359-c563-eac7dce9269f"
      },
      "outputs": [
        {
          "name": "stdout",
          "output_type": "stream",
          "text": [
            "\n",
            "Obliczanie równoległe liczby PI z wzoru Leibniza dla 128 procesów\n",
            "Wynik = 3.133780\n"
          ]
        }
      ],
      "source": [
        "%%sh\n",
        "cat > pi-mpi.c << EOF\n",
        "\n",
        "\n",
        "#include <mpi.h>\n",
        "#include <stdio.h>\n",
        "#include <stdlib.h>\n",
        "#include <math.h>\n",
        "\n",
        "int main(int argc, char *argv[]) {\n",
        "\tint i,np,lp;\n",
        "\tint tag=50;\n",
        "\tMPI_Status status;\n",
        "\tMPI_Init(&argc, &argv);\n",
        "\tMPI_Comm_rank(MPI_COMM_WORLD, &np);\n",
        "\tMPI_Comm_size(MPI_COMM_WORLD, &lp);\n",
        "\n",
        "\tif (np == 0) {\n",
        "\t\tdouble suma = 0, s=0, n = 1.0;\n",
        "    printf(\"\\nObliczanie równoległe liczby PI z wzoru Leibniza dla %d procesów\", lp);\n",
        "\t\tfor(i=0;i<lp;i++)\n",
        "\t\t{\n",
        "      MPI_Send(&n, 1, MPI_DOUBLE, i,tag, MPI_COMM_WORLD);\n",
        "      n++;\n",
        "\t\t}\n",
        "\n",
        "\t\tfor(i=0;i<lp;i++)\n",
        "\t\t{\n",
        "\t\t\tMPI_Recv(&s, 1, MPI_DOUBLE, i, tag,MPI_COMM_WORLD, &status);\n",
        "\t\t\tsuma+=s;\n",
        "\t\t}\n",
        "\t\tprintf(\"\\nWynik = %lf\\n\", 4 * suma );\n",
        "\t}\n",
        "\telse\n",
        "\t{\n",
        "\t\tdouble s;\n",
        "    double n;\n",
        "\n",
        "    MPI_Recv(&n, 1, MPI_DOUBLE, 0, tag,MPI_COMM_WORLD, &status);\n",
        "\n",
        "\t\ts = pow(-1.0, n-1) / (2*n-1);\n",
        "\t\tMPI_Send(&s, 1, MPI_DOUBLE, 0,tag, MPI_COMM_WORLD);\n",
        "\t}\n",
        "\tMPI_Finalize();\n",
        "}\n",
        "EOF\n",
        "mpicc pi-mpi.c -lm && mpirun -n 128 --allow-run-as-root a.out "
      ]
    },
    {
      "cell_type": "markdown",
      "metadata": {
        "id": "jVpYjfc3XG9h"
      },
      "source": [
        "## **Zad 2**\n",
        "\n",
        "> #### `np` - numer procesu\n",
        "> #### `lp` - liczba procesów\n",
        "> #### `dx` - odległość między sąsiednimi punktami ( wysokość trapezu )\n",
        "> #### `xp` - początek przedziału\n",
        "> #### `xk` - koniec przedziału\n",
        "\n",
        "Metoda *funkcja* - funkcja podcałkowa"
      ]
    },
    {
      "cell_type": "code",
      "execution_count": 41,
      "metadata": {
        "colab": {
          "base_uri": "https://localhost:8080/"
        },
        "id": "MKriiQCBWMTQ",
        "outputId": "78903e65-0c52-4464-a437-8e2f01235363"
      },
      "outputs": [
        {
          "name": "stdout",
          "output_type": "stream",
          "text": [
            "\n",
            "Obliczanie calki oznaczonej metoda prostokątów dla funkcji f(x)=x\n",
            "Pole pod calka wynosi = 7.875000\n"
          ]
        }
      ],
      "source": [
        "\n",
        "%%sh\n",
        "cat > pi-mpi.c << EOF\n",
        "\n",
        "#include <mpi.h>\n",
        "#include <stdio.h>\n",
        "#include <stdlib.h>\n",
        "\n",
        "double funkcja(double x) {\n",
        "\treturn x;\n",
        "}\n",
        "\n",
        "int main(int argc, char *argv[]) {\n",
        "\tint i,np,lp;\n",
        "\tint tag=50;\n",
        "\tMPI_Status status;\n",
        "\tMPI_Init(&argc, &argv);\n",
        "\tMPI_Comm_rank(MPI_COMM_WORLD, &np);\n",
        "\tMPI_Comm_size(MPI_COMM_WORLD, &lp);\n",
        "\n",
        "\tif (np == 0) {\n",
        "\t\tdouble xp,xk,pole,s=0,dx;\n",
        "\t\tprintf(\"\\nObliczanie calki oznaczonej metoda trapezów dla funkcji f(x)=x\");\n",
        "\t\txp = 1.0;\n",
        "\t\txk = 4.0;\n",
        "\t\tdx=(xk-xp)/(double)lp;\n",
        "\n",
        "\t\t// wysylanie wartosci ci xp i xk oraz dx do poszczegolnych procesow\n",
        "\t\tfor(i=0;i<lp;i++)\n",
        "\t\t{\n",
        "\t\t\tMPI_Send(&xp, 1, MPI_DOUBLE, i,tag, MPI_COMM_WORLD);\n",
        "\t\t\tMPI_Send(&xk, 1, MPI_DOUBLE, i,tag, MPI_COMM_WORLD);\n",
        "\t\t\tMPI_Send(&dx, 1, MPI_DOUBLE, i,tag, MPI_COMM_WORLD);\n",
        "\t\t}\n",
        "\n",
        "\t  // odbieranie oraz sumowanie wyników z wszystkich procesów\n",
        "\t\tfor(i=0;i<lp;i++)\n",
        "\t\t{\n",
        "\t\t\tMPI_Recv(&s, 1, MPI_DOUBLE, i, tag,MPI_COMM_WORLD, &status);\n",
        "\t\t\tpole+=s;\n",
        "\t\t}\n",
        "\t\tprintf(\"\\nPole pod calka wynosi = %lf\\n\", dx * (pole + (funkcja(xp) + funkcja(xk))/2) );\n",
        "\t}\n",
        "\telse\n",
        "\t{\n",
        "\t\tdouble s,dx,xp,xk;\n",
        "\n",
        "\t\t// odbieranie wartości od procesu 0\n",
        "\t\tMPI_Recv(&xp, 1, MPI_DOUBLE, 0, tag,MPI_COMM_WORLD, &status);\n",
        "\t\tMPI_Recv(&xk, 1, MPI_DOUBLE, 0, tag,MPI_COMM_WORLD, &status);\n",
        "\t\tMPI_Recv(&dx, 1, MPI_DOUBLE, 0, tag,MPI_COMM_WORLD, &status);\n",
        "\n",
        "\t\t// obliczanie pola trapezu dla podanej funkcji\n",
        "\t\ts = funkcja(xp + np * dx); \n",
        "\n",
        "\t\t//wysyłanie pola trapezu do procesu 0\n",
        "\t\tMPI_Send(&s, 1, MPI_DOUBLE, 0,tag, MPI_COMM_WORLD);\n",
        "\t}\n",
        "\tMPI_Finalize();\n",
        "}\n",
        "EOF\n",
        "mpicc pi-mpi.c && mpirun -n 8 --allow-run-as-root a.out"
      ]
    }
  ],
  "metadata": {
    "colab": {
      "provenance": []
    },
    "kernelspec": {
      "display_name": "Python 3",
      "name": "python3"
    },
    "language_info": {
      "name": "python"
    }
  },
  "nbformat": 4,
  "nbformat_minor": 0
}
