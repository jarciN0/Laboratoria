{
  "nbformat": 4,
  "nbformat_minor": 0,
  "metadata": {
    "colab": {
      "provenance": []
    },
    "kernelspec": {
      "name": "python3",
      "display_name": "Python 3"
    },
    "language_info": {
      "name": "python"
    },
    "accelerator": "GPU",
    "gpuClass": "standard"
  },
  "cells": [
    {
      "cell_type": "code",
      "execution_count": null,
      "metadata": {
        "colab": {
          "base_uri": "https://localhost:8080/"
        },
        "id": "goZSeTE9sPem",
        "outputId": "8f82af07-2952-42b0-d2ac-556457933e26"
      },
      "outputs": [
        {
          "output_type": "stream",
          "name": "stdout",
          "text": [
            "nvcc: NVIDIA (R) Cuda compiler driver\n",
            "Copyright (c) 2005-2021 NVIDIA Corporation\n",
            "Built on Sun_Feb_14_21:12:58_PST_2021\n",
            "Cuda compilation tools, release 11.2, V11.2.152\n",
            "Build cuda_11.2.r11.2/compiler.29618528_0\n"
          ]
        }
      ],
      "source": [
        "!nvcc --version"
      ]
    },
    {
      "cell_type": "code",
      "source": [
        "!pip install git+https://github.com/andreinechaev/nvcc4jupyter.git"
      ],
      "metadata": {
        "colab": {
          "base_uri": "https://localhost:8080/"
        },
        "id": "2W9wK-0-_jpz",
        "outputId": "6a1c0eb7-31f8-4446-f4d9-832d6c3c2f5c"
      },
      "execution_count": null,
      "outputs": [
        {
          "output_type": "stream",
          "name": "stdout",
          "text": [
            "Looking in indexes: https://pypi.org/simple, https://us-python.pkg.dev/colab-wheels/public/simple/\n",
            "Collecting git+https://github.com/andreinechaev/nvcc4jupyter.git\n",
            "  Cloning https://github.com/andreinechaev/nvcc4jupyter.git to /tmp/pip-req-build-xkvh0e8o\n",
            "  Running command git clone --filter=blob:none --quiet https://github.com/andreinechaev/nvcc4jupyter.git /tmp/pip-req-build-xkvh0e8o\n",
            "  Resolved https://github.com/andreinechaev/nvcc4jupyter.git to commit aac710a35f52bb78ab34d2e52517237941399eff\n",
            "  Preparing metadata (setup.py) ... \u001b[?25l\u001b[?25hdone\n",
            "Building wheels for collected packages: NVCCPlugin\n",
            "  Building wheel for NVCCPlugin (setup.py) ... \u001b[?25l\u001b[?25hdone\n",
            "  Created wheel for NVCCPlugin: filename=NVCCPlugin-0.0.2-py3-none-any.whl size=4304 sha256=5038c81e80c3b406cf631d8e06cd35ffa7af275d7bc813066c3e68b02ef351ec\n",
            "  Stored in directory: /tmp/pip-ephem-wheel-cache-aoqx57n1/wheels/f3/08/cc/e2b5b0e1c92df07dbb50a6f024a68ce090f5e7b2316b41756d\n",
            "Successfully built NVCCPlugin\n",
            "Installing collected packages: NVCCPlugin\n",
            "Successfully installed NVCCPlugin-0.0.2\n"
          ]
        }
      ]
    },
    {
      "cell_type": "code",
      "source": [
        "%load_ext nvcc_plugin"
      ],
      "metadata": {
        "colab": {
          "base_uri": "https://localhost:8080/"
        },
        "id": "dYgqwtlM_nKo",
        "outputId": "35e89f2b-25dc-470f-e43f-a7d779a42ffe"
      },
      "execution_count": null,
      "outputs": [
        {
          "output_type": "stream",
          "name": "stdout",
          "text": [
            "created output directory at /content/src\n",
            "Out bin /content/result.out\n"
          ]
        }
      ]
    },
    {
      "cell_type": "markdown",
      "source": [
        "# Wersja CPU\n",
        "_____"
      ],
      "metadata": {
        "id": "hSJLRFJFTvXL"
      }
    },
    {
      "cell_type": "markdown",
      "source": [
        "- Sekcja 1: Deklaracja i definicja struktury **cuComplex**, która składa się z dwóch zmiennych typu *float*: r i i. Struktura ta zawiera również trzy metody: **magnitude2, operator *,** a także **operator +**, które odpowiednio zwracają kwadrat magnitudy liczby zespolonej, mnożą dwie liczby zespolone i dodają dwie liczby zespolone.\n",
        "\n",
        "- Sekcja 2: Definicja funkcji **mandelbrot**, która przyjmuje dwa argumenty: x i y. Funkcja ta oblicza wartość fraktala Mandelbrota dla danego punktu (x, y) na podstawie liczby zespolonej p i liczby zespolonej a. Jeśli wartość kwadratu magnitudy liczby a przekracza 1000, funkcja zwraca 0, w przeciwnym razie zwraca 1.\n",
        "\n",
        "- Sekcja 3: Definicja funkcji **kernel**, która przyjmuje jeden argument: wskaźnik typu *unsigned char*. Funkcja ta iteruje przez wszystkie punkty w obrazie o rozmiarze DIM x DIM i dla każdego punktu wywołuje funkcję *mandelbrot*, aby uzyskać wartość fraktala. Następnie ustawia kanały R, G i B dla tego punktu na podstawie wartości fraktala.\n",
        "\n",
        "- Sekcja 4: Struktura **DataBlock** składa się tylko z jednego pola, którym jest wskaźnik **dev_bitmap** typu *unsigned char*. Ten wskaźnik wskazuje na pamięć wykorzystywaną przez obraz fraktala, który jest generowany przez kernel. Jest to wskaźnik na pamięć na urządzeniu, który jest przydatny przy obliczeniach na urządzeniach zewnętrznych (GPU).\n",
        "\n",
        "- Sekcja 5: Definicja funkcji **wypisz_RGB_fraktal**, która przyjmuje jeden argument: wskaźnik typu *unsigned char*. Funkcja ta iteruje przez wszystkie punkty w obrazie i dla każdego punktu wypisuje wartości kanałów R, G i B.\n",
        "\n",
        "- Sekcja 6: Definicja funkcji **save_to_file**, która przyjmuje jeden argument: wskaźnik typu *unsigned char*. Funkcja ta otwiera plik o nazwie \"Fraktal_CPU.txt\" w trybie zapisu i zapisuje rozmiar obrazu oraz wartości kanałów R, G i B dla każdego punktu w obrazie.\n",
        "\n",
        "- Sekcja 7: Kod główny programu, w którym tworzone są zmienne **start** i **stop**, które służą do pomiaru czasu generowania obrazu. Następnie alokuje się pamięć dla bitmapy i wywołuje funkcję **kernel**, która generuje obraz fraktala. Po zakończeniu generowania obrazu, rejestrowany jest czas końcowy i obliczany jest czas trwania generowania obrazu. Następnie zwalnia się zaalokowaną pamięć i zapisuje obraz do pliku."
      ],
      "metadata": {
        "id": "aL0JQR7AclKT"
      }
    },
    {
      "cell_type": "code",
      "source": [
        "%%cu\n",
        "#include <stdio.h>\n",
        "#define DIM 6000\n",
        "\n",
        "struct cuComplex{\n",
        "    float r;\n",
        "    float i;\n",
        "    cuComplex(float a,float b):r(a),i(b){}\n",
        "    float magnitude2(void){ return r*r+i*i;}\n",
        "    cuComplex operator*(const cuComplex &a) { return cuComplex(r*a.r-i*a.i, i*a.r+r*a.i);}\n",
        "    cuComplex operator+(const cuComplex &a) { return cuComplex(r+a.r, i+a.i);}\n",
        "};\n",
        "\n",
        "int mandelbrot(int x, int y){\n",
        "    const float scale = 1.5;\n",
        "    float jx = scale * (float)(DIM/2-x) / (DIM/2);\n",
        "    float jy = scale * (float)(DIM/2-y) / (DIM/2);\n",
        "    cuComplex p(jx, jy);\n",
        "    cuComplex a(0, 0);\n",
        "    int i = 0;\n",
        "    for (i = 0; i < 200; i++) {\n",
        "        a = a * a + p;\n",
        "        if (a.magnitude2()>1000) \n",
        "        return 0;\n",
        "    }\n",
        "    return 1;\n",
        "}\n",
        "\n",
        "void kernel(unsigned char *ptr){\n",
        "    for(int y=0; y<DIM; y++){\n",
        "        for(int x=0; x<DIM; x++){\n",
        "            int offset = x+y*DIM;\n",
        "            int mandelValue = mandelbrot(x,y);\n",
        "            ptr[offset*4+0] = 0;\n",
        "            ptr[offset*4+1] = 255 * mandelValue;\n",
        "            ptr[offset*4+2] = 155 * mandelValue;\n",
        "        }\n",
        "    }\n",
        "}\n",
        "\n",
        "//Zapis fraktala\n",
        "struct DataBlock{\n",
        "    unsigned char *dev_bitmap;\n",
        "};\n",
        "\n",
        "void wypisz_RGB_fraktal(unsigned char *ptr){\n",
        "    for(int y=0; y<DIM; y++){\n",
        "        for(int x=0; x<DIM; x++){\n",
        "            int offset = x+y*DIM;\n",
        "\n",
        "            printf(\"%d,%d,%d \", ptr[offset*4+0], ptr[offset*4+1], ptr[offset*4+2]);\n",
        "        }\n",
        "    }\n",
        "}\n",
        "\n",
        "void save_to_file(unsigned char *ptr){\n",
        "    FILE *fp=fopen(\"Fraktal_CPU.txt\",\"w\");\n",
        "    fprintf(fp, \"%d %d\\n\", DIM, DIM);\n",
        "    for(int y=0; y<DIM; y++){\n",
        "        for(int x=0; x<DIM; x++){\n",
        "            int offset=x+y*DIM;\n",
        "            fprintf(fp, \"%d,%d,%d \", ptr[offset*4+0], ptr[offset*4+1], ptr[offset*4+2]);\n",
        "        }\n",
        "    }\n",
        "    fclose(fp);\n",
        "}\n",
        "\n",
        "int main(void){\n",
        "cudaEvent_t start, stop;\n",
        "cudaEventCreate(&start);\n",
        "cudaEventCreate(&stop);\n",
        "cudaEventRecord( start, 0 );\n",
        "\n",
        "    DataBlock data;\n",
        "    unsigned char *bitmap = (unsigned char*)malloc(DIM*DIM*4*sizeof(unsigned char));\n",
        "    int image_size = DIM*DIM*4;\n",
        "    kernel(bitmap);\n",
        "\n",
        "//stop pomiaru czasu i obliczenie jego trwania\n",
        "cudaEventRecord(stop,0);\n",
        "cudaEventSynchronize(stop);\n",
        "float elapsedTime;\n",
        "cudaEventElapsedTime(&elapsedTime,start,stop);\n",
        "printf(\"Time to generate: %3.1f ms\\n\",elapsedTime);\n",
        "//wyczyszczenie pamieci\n",
        "cudaEventDestroy(start);\n",
        "cudaEventDestroy(stop);\n",
        "\n",
        "    save_to_file(bitmap);\n",
        "}"
      ],
      "metadata": {
        "colab": {
          "base_uri": "https://localhost:8080/"
        },
        "id": "3deUpwVIckim",
        "outputId": "875608b4-a54f-459b-ea66-ff3774b606fa"
      },
      "execution_count": null,
      "outputs": [
        {
          "output_type": "stream",
          "name": "stdout",
          "text": [
            "Time to generate: 43511.7 ms\n",
            "\n"
          ]
        }
      ]
    },
    {
      "cell_type": "markdown",
      "source": [
        "# Wersja GPU\n",
        "_____"
      ],
      "metadata": {
        "id": "QAsN0LLxT1vE"
      }
    },
    {
      "cell_type": "markdown",
      "source": [
        "1. Sekcja `#include <stdio.h>` i `#define DIM 1000` - W tym fragmencie kodu jest zaimportowany plik nagłówkowy **stdio.h**, który zawiera funkcje do wejścia/wyjścia danych, oraz zdefiniowana stała **DIM**, która będzie używana do określenia rozmiaru obrazu generowanego fraktala.\n",
        "\n",
        "1. Sekcja `struct cuComplex` - W tej sekcji zdefiniowano strukturę **cuComplex**, która składa się z dwóch zmiennych typu float: r i i. Struktura ta posiada również trzy metody: **konstruktor cuComplex, magnitude2 i operator overloads** dla mnożenia i dodawania. Konstruktor ustawia wartości r i i na podane parametry a i b, metoda magnitude2 zwraca kwadrat magnitudy liczby zespolonej, a operatory overloads pozwalają na mnożenie i dodawanie dwóch liczb zespolonych.\n",
        "\n",
        "1. Sekcja `device int mandelbrot(int x, int y)` - W tej sekcji zdefiniowano funkcję mandelbrot, która jest wykonywana na GPU. Funkcja ta przyjmuje dwa parametry: x i y, które reprezentują współrzędne punktu na ekranie. Funkcja ta zwraca 1 lub 0 w zależności od tego, czy punkt znajduje się wewnątrz czy na zewnątrz fraktala Mandelbrota.\n",
        "\n",
        "1. Sekcja ` global void kernel( unsigned char *ptr )` - W tej sekcji zdefiniowano **kernel**, czyli funkcję, która jest wykonywana na GPU. Kernel przyjmuje jeden parametr - wskaźnik na tablicę typu *unsigned char*. Funkcja ta odwzorowuje indeks bloku na współrzędne piksela na ekranie, a następnie wywołuje funkcję **mandelbrot** dla danego punktu i zapisuje wynik w tablicy ptr.\n",
        "\n",
        "1. Sekcja `struct DataBlock` - W tej sekcji zdefiniowano strukturę DataBlock, która składa się z jednego pola - wskaźnika na tablicę dev_bitmap typu unsigned char.\n",
        "\n",
        "1. Sekcja `void wypisz_RGB_fraktal(unsigned char *ptr)` - W tej sekcji zdefiniowano funkcję wypisz_RGB_fraktal, która przyjmuje jeden parametr - wskaźnik na tablicę ptr typu *unsigned char*. Funkcja ta wypisuje na ekranie wartości RGB dla każdego punktu fraktala.\n",
        "\n",
        "1. Sekcja `void save_to_file(unsigned char *ptr)` - W tej sekcji zdefiniowano funkcję save_to_file, która przyjmuje jeden parametr - wskaźnik na tablicę **ptr** typu *unsigned char*. Funkcja ta zapisuje wartości RGB dla każdego punktu fraktala do pliku tekstowego o nazwie \"Fraktal_GPU.txt\".\n",
        "\n",
        "1. Sekcja `int main(void)` - W tej sekcji znajduje się główna funkcja programu, która jest wykonywana na CPU. Funkcja ta inicjuje pomiar czasu, alokuje pamięć na GPU dla tablicy **dev_bitmap**, wywołuje kernel na GPU, kopiuje wynik z GPU do pamięci CPU, kończy pomiar czasu i wypisuje czas trwania obliczeń oraz zapisuje fraktal do pliku."
      ],
      "metadata": {
        "id": "iwTc7eCFT9aw"
      }
    },
    {
      "cell_type": "code",
      "source": [
        "%%cu\n",
        "#include <stdio.h>\n",
        "#define DIM 6000\n",
        "\n",
        "struct cuComplex{\n",
        "    float r;\n",
        "    float i;\n",
        "    \n",
        "    __device__ cuComplex(float a, float b):r(a),i(b){}\n",
        "    __device__ float magnitude2(void){ return r*r+i*i;}\n",
        "    __device__ cuComplex operator*(const cuComplex &a) { return cuComplex(r*a.r-i*a.i, i*a.r+r*a.i);}\n",
        "    __device__ cuComplex operator+(const cuComplex &a) { return cuComplex(r+a.r, i+a.i);}\n",
        "};\n",
        "__device__ int mandelbrot(int x, int y) {\n",
        "    const float scale = 1.5;\n",
        "    float jx=scale*(float)(DIM/2-x)/(DIM/2);\n",
        "    float jy=scale*(float)(DIM/2-y)/(DIM/2);\n",
        "    cuComplex p(jx, jy);\n",
        "    cuComplex a(0, 0);\n",
        "    int i = 0;\n",
        "    for (i = 0; i < 200; i++) {\n",
        "        a = a * a + p;\n",
        "        if (a.magnitude2()>1000) \n",
        "        return 0;\n",
        "    }\n",
        "    return 1;\n",
        "}\n",
        "\n",
        "__global__ void kernel( unsigned char *ptr ) {\n",
        "  // Odwzorowanie z blockldx na współrzędne piksela\n",
        "  int x = blockIdx.x;\n",
        "  int y = blockIdx.y;\n",
        "  int offset = x + y * gridDim.x;\n",
        "  // Obliczenie wartości dla tego punktu\n",
        "  int mandelValue = mandelbrot ( x, y );\n",
        "  ptr[offset*4 + 0] = 255 * mandelValue;\n",
        "  ptr[offset*4 + 1] = 0;\n",
        "  ptr[offset*4 +2] = 255 * mandelValue;\n",
        "}\n",
        "\n",
        "//Zapis fraktala\n",
        "struct DataBlock{\n",
        "    unsigned char *dev_bitmap;\n",
        "};\n",
        "\n",
        "void wypisz_RGB_fraktal(unsigned char *ptr){\n",
        "    for(int y=0; y<DIM; y++){\n",
        "        for(int x=0; x<DIM; x++){\n",
        "            int offset = x+y*DIM;\n",
        "\n",
        "            printf(\"%d, %d, %d \", ptr[offset*4+0], ptr[offset*4+1], ptr[offset*4+2]);\n",
        "        }\n",
        "    }\n",
        "}\n",
        "\n",
        "void save_to_file(unsigned char *ptr){\n",
        "    FILE *fp=fopen(\"Fraktal_GPU.txt\",\"w\");\n",
        "    fprintf(fp, \"%d %d\\n\", DIM, DIM);\n",
        "    for(int y=0; y<DIM; y++){\n",
        "        for(int x=0; x<DIM; x++){\n",
        "            int offset=x+y*DIM;\n",
        "            fprintf(fp, \"%d, %d, %d \", ptr[offset*4+0], ptr[offset*4+1], ptr[offset*4+2]);\n",
        "        }\n",
        "    }\n",
        "    fclose(fp);\n",
        "}\n",
        "\n",
        "int main(void){\n",
        "  cudaEvent_t start, stop;\n",
        "  cudaEventCreate(&start);\n",
        "  cudaEventCreate(&stop);\n",
        "  cudaEventRecord( start, 0 );\n",
        "\n",
        "\n",
        "  DataBlock data;\n",
        "  unsigned char *bitmap = (unsigned char*)malloc(DIM*DIM*4*sizeof(unsigned char));\n",
        "  int image_size = DIM*DIM*4;\n",
        "  unsigned char *dev_bitmap;\n",
        "  cudaMalloc((void**)&dev_bitmap, image_size);\n",
        "  data.dev_bitmap=dev_bitmap;\n",
        "  dim3 grid(DIM,DIM);\n",
        "  kernel<<<grid,1>>>(dev_bitmap);\n",
        "  cudaMemcpy(bitmap,dev_bitmap,image_size,cudaMemcpyDeviceToHost);\n",
        "\n",
        "  //stop pomiaru czasu i obliczenie jego trwania\n",
        "  cudaEventRecord(stop,0);\n",
        "  cudaEventSynchronize(stop);\n",
        "  float elapsedTime;\n",
        "  cudaEventElapsedTime(&elapsedTime,start,stop);\n",
        "  printf(\"Time to generate: %3.1f ms\\n\",elapsedTime);\n",
        "  //wyczyszczenie pamieci\n",
        "  cudaEventDestroy(start);\n",
        "  cudaEventDestroy(stop);\n",
        "\n",
        "  cudaFree(dev_bitmap);\n",
        "  save_to_file (bitmap);\n",
        "}"
      ],
      "metadata": {
        "colab": {
          "base_uri": "https://localhost:8080/"
        },
        "id": "YJsQuOWVOUby",
        "outputId": "60dc67ca-c244-475b-83e8-692e28fdb36b"
      },
      "execution_count": null,
      "outputs": [
        {
          "output_type": "stream",
          "name": "stdout",
          "text": [
            "Time to generate: 389.5 ms\n",
            "\n"
          ]
        }
      ]
    },
    {
      "cell_type": "code",
      "source": [
        "import matplotlib.pyplot as plt\n",
        "\n",
        "dim_size = [1000, 3000, 6000]\n",
        "gpu_time = [12.6, 108.6, 389.5]\n",
        "cpu_time = [1231.4, 10858.5, 43511.7]\n",
        "\n",
        "plt.plot(dim_size, gpu_time, label='Czas GPU')\n",
        "plt.plot(dim_size, cpu_time, label='Czas CPU')\n",
        "plt.xlabel('DIM')\n",
        "plt.ylabel('Czas w ms')\n",
        "plt.legend()\n",
        "plt.title('Czas wykonania dla GPU i CPU o różnych rozmiarach DIM')\n",
        "plt.show()\n"
      ],
      "metadata": {
        "colab": {
          "base_uri": "https://localhost:8080/",
          "height": 295
        },
        "id": "vZruoJADLPmi",
        "outputId": "da35847f-09d4-410b-ec29-97444bd2bec8"
      },
      "execution_count": null,
      "outputs": [
        {
          "output_type": "display_data",
          "data": {
            "text/plain": [
              "<Figure size 432x288 with 1 Axes>"
            ],
            "image/png": "[encoded data removed]"
          },
          "metadata": {
            "needs_background": "light"
          }
        }
      ]
    },
    {
      "cell_type": "code",
      "source": [
        "import re\n",
        "import numpy as np\n",
        "from PIL import Image\n",
        "from pathlib import Path\n",
        "\n",
        "contents = Path('Fraktal_GPU.txt').read_text()\n",
        "\n",
        "h, w, *pixels = re.findall(r'[0-9]+', contents)\n",
        "\n",
        "na = np.array(pixels, dtype=np.uint8).reshape((int(h),int(w),3))\n",
        "\n",
        "Image.fromarray(na).save(\"wynik_GPU.png\")"
      ],
      "metadata": {
        "id": "LgONGRF0oYHl"
      },
      "execution_count": null,
      "outputs": []
    },
    {
      "cell_type": "markdown",
      "source": [
        "/content/wynik_GPU.png"
      ],
      "metadata": {
        "id": "H7dyAJxGo8N8"
      }
    },
    {
      "cell_type": "markdown",
      "source": [
        "![wynik_GPU (1).png](data:image/png;base64,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)"
      ],
      "metadata": {
        "id": "yGAoFNp4K0Ts"
      }
    }
  ]
}