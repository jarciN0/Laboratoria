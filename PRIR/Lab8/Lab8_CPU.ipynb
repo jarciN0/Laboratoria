{
  "cells": [
    {
      "cell_type": "markdown",
      "metadata": {
        "id": "fSspIb-VW9Gw"
      },
      "source": [
        "# **LAB 5**\n",
        "______"
      ]
    },
    {
      "cell_type": "markdown",
      "metadata": {
        "id": "jhC_zg9dh861"
      },
      "source": [
        "## **Zad 1**\n",
        "> #### `np` - numer procesu\n",
        "> #### `lp` - liczba procesów\n",
        "> #### `n` - indeks w szeregu (od 1)"
      ]
    },
    {
      "cell_type": "code",
      "execution_count": 138,
      "metadata": {
        "colab": {
          "base_uri": "https://localhost:8080/"
        },
        "id": "dzMV27xlh_cR",
        "outputId": "099beb1e-73cb-4359-c563-eac7dce9269f"
      },
      "outputs": [
        {
          "name": "stdout",
          "output_type": "stream",
          "text": [
            "\n",
            "Obliczanie równoległe liczby PI z wzoru Leibniza dla 128 procesów\n",
            "Wynik = 3.133780\n"
          ]
        }
      ],
      "source": [
        "%%sh\n",
        "cat > pi-mpi.c << EOF\n",
        "\n",
        "\n",
        "#include <mpi.h>\n",
        "#include <stdio.h>\n",
        "#include <stdlib.h>\n",
        "#include <math.h>\n",
        "\n",
        "int main(int argc, char *argv[]) {\n",
        "\tint i,np,lp;\n",
        "\tint tag=50;\n",
        "\tMPI_Status status;\n",
        "\tMPI_Init(&argc, &argv);\n",
        "\tMPI_Comm_rank(MPI_COMM_WORLD, &np);\n",
        "\tMPI_Comm_size(MPI_COMM_WORLD, &lp);\n",
        "\n",
        "\tif (np == 0) {\n",
        "\t\tdouble suma = 0, s=0, n = 1.0;\n",
        "    printf(\"\\nObliczanie równoległe liczby PI z wzoru Leibniza dla %d procesów\", lp);\n",
        "\t\tfor(i=0;i<lp;i++)\n",
        "\t\t{\n",
        "      MPI_Send(&n, 1, MPI_DOUBLE, i,tag, MPI_COMM_WORLD);\n",
        "      n++;\n",
        "\t\t}\n",
        "\n",
        "\t\tfor(i=0;i<lp;i++)\n",
        "\t\t{\n",
        "\t\t\tMPI_Recv(&s, 1, MPI_DOUBLE, i, tag,MPI_COMM_WORLD, &status);\n",
        "\t\t\tsuma+=s;\n",
        "\t\t}\n",
        "\t\tprintf(\"\\nWynik = %lf\\n\", 4 * suma );\n",
        "\t}\n",
        "\telse\n",
        "\t{\n",
        "\t\tdouble s;\n",
        "    double n;\n",
        "\n",
        "    MPI_Recv(&n, 1, MPI_DOUBLE, 0, tag,MPI_COMM_WORLD, &status);\n",
        "\n",
        "\t\ts = pow(-1.0, n-1) / (2*n-1);\n",
        "\t\tMPI_Send(&s, 1, MPI_DOUBLE, 0,tag, MPI_COMM_WORLD);\n",
        "\t}\n",
        "\tMPI_Finalize();\n",
        "}\n",
        "EOF\n",
        "mpicc pi-mpi.c -lm && mpirun -n 128 --allow-run-as-root a.out "
      ]
    },
    {
      "cell_type": "markdown",
      "metadata": {
        "id": "jVpYjfc3XG9h"
      },
      "source": [
        "## **Zad 2**\n",
        "\n",
        "> #### `np` - numer procesu\n",
        "> #### `lp` - liczba procesów\n",
        "> #### `dx` - odległość między sąsiednimi punktami ( wysokość trapezu )\n",
        "> #### `xp` - początek przedziału\n",
        "> #### `xk` - koniec przedziału\n",
        "\n",
        "Metoda *funkcja* - funkcja podcałkowa"
      ]
    },
    {
      "cell_type": "code",
      "execution_count": 41,
      "metadata": {
        "colab": {
          "base_uri": "https://localhost:8080/"
        },
        "id": "MKriiQCBWMTQ",
        "outputId": "78903e65-0c52-4464-a437-8e2f01235363"
      },
      "outputs": [
        {
          "name": "stdout",
          "output_type": "stream",
          "text": [
            "\n",
            "Obliczanie calki oznaczonej metoda prostokątów dla funkcji f(x)=x\n",
            "Pole pod calka wynosi = 7.875000\n"
          ]
        }
      ],
      "source": [
        "\n",
        "%%sh\n",
        "cat > pi-mpi.c << EOF\n",
        "\n",
        "#include <mpi.h>\n",
        "#include <stdio.h>\n",
        "#include <stdlib.h>\n",
        "\n",
        "double funkcja(double x) {\n",
        "\treturn x;\n",
        "}\n",
        "\n",
        "int main(int argc, char *argv[]) {\n",
        "\tint i,np,lp;\n",
        "\tint tag=50;\n",
        "\tMPI_Status status;\n",
        "\tMPI_Init(&argc, &argv);\n",
        "\tMPI_Comm_rank(MPI_COMM_WORLD, &np);\n",
        "\tMPI_Comm_size(MPI_COMM_WORLD, &lp);\n",
        "\n",
        "\tif (np == 0) {\n",
        "\t\tdouble xp,xk,pole,s=0,dx;\n",
        "\t\tprintf(\"\\nObliczanie calki oznaczonej metoda trapezów dla funkcji f(x)=x\");\n",
        "\t\txp = 1.0;\n",
        "\t\txk = 4.0;\n",
        "\t\tdx=(xk-xp)/(double)lp;\n",
        "\n",
        "\t\t// wysylanie wartosci ci xp i xk oraz dx do poszczegolnych procesow\n",
        "\t\tfor(i=0;i<lp;i++)\n",
        "\t\t{\n",
        "\t\t\tMPI_Send(&xp, 1, MPI_DOUBLE, i,tag, MPI_COMM_WORLD);\n",
        "\t\t\tMPI_Send(&xk, 1, MPI_DOUBLE, i,tag, MPI_COMM_WORLD);\n",
        "\t\t\tMPI_Send(&dx, 1, MPI_DOUBLE, i,tag, MPI_COMM_WORLD);\n",
        "\t\t}\n",
        "\n",
        "\t  // odbieranie oraz sumowanie wyników z wszystkich procesów\n",
        "\t\tfor(i=0;i<lp;i++)\n",
        "\t\t{\n",
        "\t\t\tMPI_Recv(&s, 1, MPI_DOUBLE, i, tag,MPI_COMM_WORLD, &status);\n",
        "\t\t\tpole+=s;\n",
        "\t\t}\n",
        "\t\tprintf(\"\\nPole pod calka wynosi = %lf\\n\", dx * (pole + (funkcja(xp) + funkcja(xk))/2) );\n",
        "\t}\n",
        "\telse\n",
        "\t{\n",
        "\t\tdouble s,dx,xp,xk;\n",
        "\n",
        "\t\t// odbieranie wartości od procesu 0\n",
        "\t\tMPI_Recv(&xp, 1, MPI_DOUBLE, 0, tag,MPI_COMM_WORLD, &status);\n",
        "\t\tMPI_Recv(&xk, 1, MPI_DOUBLE, 0, tag,MPI_COMM_WORLD, &status);\n",
        "\t\tMPI_Recv(&dx, 1, MPI_DOUBLE, 0, tag,MPI_COMM_WORLD, &status);\n",
        "\n",
        "\t\t// obliczanie pola trapezu dla podanej funkcji\n",
        "\t\ts = funkcja(xp + np * dx); \n",
        "\n",
        "\t\t//wysyłanie pola trapezu do procesu 0\n",
        "\t\tMPI_Send(&s, 1, MPI_DOUBLE, 0,tag, MPI_COMM_WORLD);\n",
        "\t}\n",
        "\tMPI_Finalize();\n",
        "}\n",
        "EOF\n",
        "mpicc pi-mpi.c && mpirun -n 8 --allow-run-as-root a.out"
      ]
    },
    {
      "cell_type": "markdown",
      "metadata": {
        "id": "Swj3ByMOW8VZ"
      },
      "source": [
        "## **Zad 3**\n",
        "Proces 0 to proces Root, który rozdziela wiersze\n",
        "i kolumny macierzy B, C pomiędzy procesy robocze Slave wykonujące \n",
        "obliczenia cząstkowe mnożenia macierzy. \n",
        "\n",
        "Procesy Slave zwracają wyniki \n",
        "do procesu Root, z których składa macierz wynikową A.\n",
        "\n"
      ]
    },
    {
      "cell_type": "code",
      "execution_count": 69,
      "metadata": {
        "colab": {
          "base_uri": "https://localhost:8080/"
        },
        "id": "HgoY3g0pCrnk",
        "outputId": "3722211a-40ba-46b4-f44c-53a7c4469895"
      },
      "outputs": [
        {
          "name": "stdout",
          "output_type": "stream",
          "text": [
            "\n",
            "Mnozenie macierzy za pomoca MPI \n",
            "\n",
            "Macierz A\t\t\tWektor B\n",
            "\n",
            "9\t8\t4\t9\t| 5\t\n",
            "1\t4\t0\t8\t| 2\t\n",
            "1\t6\t4\t5\t| 4\t\n",
            "2\t0\t2\t3\t| 1\t\n",
            "_\t_\t_\t_\t\n",
            "5\t2\t4\t1\t\n",
            "\n",
            "Wynikowa macierz C = A * B:\n",
            "\n",
            "45\t16\t16\t9\t\n",
            "5\t8\t0\t8\t\n",
            "5\t12\t16\t5\t\n",
            "10\t0\t8\t3\t\n",
            "\n",
            "Czas obliczen 0.000391"
          ]
        }
      ],
      "source": [
        "%%sh\n",
        "cat > pi-mpi.c << EOF\n",
        "\n",
        "#include <stdlib.h>\n",
        "#include <stdio.h>\n",
        "#include <mpi.h>\n",
        "#include <time.h>\n",
        "#include <sys/time.h>\n",
        "#define N 4\n",
        "\n",
        "MPI_Status status;\n",
        "double A[N][N],B[N],C[N][N];\n",
        "\n",
        "int main(int argc, char **argv) {\n",
        "\tint processCount, processId, slaveTaskCount, source, dest, rows, offset;\n",
        "\tstruct timeval start, stop;\n",
        "\tMPI_Init(&argc, &argv);\n",
        "\tMPI_Comm_rank(MPI_COMM_WORLD, &processId);\n",
        "\tMPI_Comm_size(MPI_COMM_WORLD, &processCount);\n",
        "\n",
        "\tslaveTaskCount = processCount - 1;\n",
        "\tif (processId == 0) {\n",
        "\t\tdouble start = MPI_Wtime();\n",
        "\t\tsrand ( time(NULL) );\n",
        "\n",
        "\t\tfor (int i = 0; i<N; i++) {\n",
        "\t\t\tfor (int j = 0; j<N; j++) {\n",
        "\t\t\t\tA[i][j]= rand()%10;\n",
        "\t\t\t\tB[j]= rand()%10;\n",
        "\t\t\t}\n",
        "\t\t}\n",
        "\n",
        "\t\tprintf(\"\\nMnozenie macierzy za pomoca MPI \\n\");\n",
        "\t\tprintf(\"\\nMacierz A\\t\\t\\tWektor B\\n\\n\");\n",
        "\n",
        "\t\tfor (int i = 0; i<N; i++) {\n",
        "\t\t\tfor (int j = 0; j<N; j++) {\n",
        "\t\t\t\tprintf(\"%.0f\\t\", A[i][j]);\n",
        "\t\t\t}\n",
        "      printf(\"| %.0f\\t\\n\", B[i]);\n",
        "\t\t}\n",
        "\n",
        "    for (int i = 0; i<N; i++) {\n",
        "      printf(\"_\\t\");\n",
        "\t\t}\n",
        "    printf(\"\\n\");\n",
        "\n",
        "    for (int i = 0; i<N; i++) {\n",
        "      printf(\"%.0f\\t\", B[i]);\n",
        "\t\t}\n",
        "\n",
        "    printf(\"\\n\");\n",
        "\t\trows = N/slaveTaskCount;\n",
        "\t\toffset = 0;\n",
        "\n",
        "\t\tfor (dest=1; dest <= slaveTaskCount; dest++)\n",
        "\t\t{\n",
        "\t\t\tMPI_Send(&offset, 1, MPI_INT, dest, 1, MPI_COMM_WORLD);\n",
        "\n",
        "\t\t\tMPI_Send(&rows, 1, MPI_INT, dest, 1, MPI_COMM_WORLD);\n",
        "\n",
        "\t\t\tMPI_Send(&A[offset][0], rows*N, MPI_DOUBLE,dest,1, MPI_COMM_WORLD);\n",
        "\n",
        "\t\t\tMPI_Send(&B, N, MPI_DOUBLE, dest, 1, MPI_COMM_WORLD);\n",
        "\t\t\toffset = offset + rows;\n",
        "\t\t}\n",
        "\t\tfor (int i = 1; i <= slaveTaskCount; i++)\n",
        "\t\t{\n",
        "\t\t\tsource = i;\n",
        "\n",
        "\t\t\tMPI_Recv(&offset, 1, MPI_INT, source, 2, MPI_COMM_WORLD, &status);\n",
        "\n",
        "\t\t\tMPI_Recv(&rows, 1, MPI_INT, source, 2, MPI_COMM_WORLD, &status);\n",
        "      \n",
        "\t\t\tMPI_Recv(&C[offset][0], rows*N, MPI_DOUBLE, source, 2 , MPI_COMM_WORLD, &status);\n",
        "\t\t}\n",
        "\n",
        "\t\tprintf(\"\\nWynikowa macierz C = A * B:\\n\\n\");\n",
        "\t\tfor (int i = 0; i<N; i++) {\n",
        "\t\t\tfor (int j = 0; j<N; j++)\n",
        "\t\t\t\tprintf(\"%.0f\\t\", C[i][j]);\n",
        "\t\t\tprintf (\"\\n\");\n",
        "\t\t}\n",
        "\t\tprintf (\"\\n\");\n",
        "\t\tdouble end = MPI_Wtime();\n",
        "\t\tprintf(\"Czas obliczen %f\",end - start);\n",
        "\t} \n",
        "\n",
        "\tif (processId > 0) {\n",
        "\t\tsource = 0;\n",
        "\t\tMPI_Recv(&offset, 1, MPI_INT, source, 1, MPI_COMM_WORLD, &status);\n",
        "\n",
        "\t\tMPI_Recv(&rows, 1, MPI_INT, source, 1, MPI_COMM_WORLD, &status);\n",
        "\n",
        "\t\tMPI_Recv(&A, rows*N, MPI_DOUBLE, source, 1, MPI_COMM_WORLD, &status);\n",
        "\n",
        "\t\tMPI_Recv(&B, N, MPI_DOUBLE, source, 1, MPI_COMM_WORLD, &status);\n",
        "\n",
        "\t\tfor (int i = 0; i<rows; i++) {\n",
        "      for (int j = 0; j<N; j++)\n",
        "\t\t\t\tC[i][j] = A[i][j] * B[j];\n",
        "\t\t}\n",
        "\n",
        "\t\tMPI_Send(&offset, 1, MPI_INT, 0, 2, MPI_COMM_WORLD);\n",
        "\n",
        "\t\tMPI_Send(&rows, 1, MPI_INT, 0, 2, MPI_COMM_WORLD);\n",
        "\n",
        "\t\tMPI_Send(&C, rows*N, MPI_DOUBLE, 0, 2, MPI_COMM_WORLD);\n",
        "\t}\n",
        "\tMPI_Finalize();\n",
        "}\n",
        "EOF\n",
        "mpicc pi-mpi.c && mpirun -n 3 --allow-run-as-root a.out"
      ]
    }
  ],
  "metadata": {
    "colab": {
      "provenance": []
    },
    "kernelspec": {
      "display_name": "Python 3",
      "name": "python3"
    },
    "language_info": {
      "name": "python"
    }
  },
  "nbformat": 4,
  "nbformat_minor": 0
}
